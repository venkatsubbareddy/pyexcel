{
 "cells": [
  {
   "cell_type": "code",
   "execution_count": 2,
   "metadata": {},
   "outputs": [],
   "source": [
    "import pandas as pd\n",
    "from pandas import ExcelWriter\n",
    "from pandas import ExcelFile\n",
    "\n",
    "#read the Input Excel file \n",
    "xls=pd.ExcelFile(\"Empty areas.xlsx\")\n",
    "df1=pd.read_excel(xls,\"Sheet1\")\n",
    "commandslist=[]          \n",
    "for i in range(0,len(df1)):\n",
    "    commnd='stod modify --cell sc --properties \"monitoringcontacts='+\"'\"+ str(df1.iloc[i][\"Monitoring Contacts\"]) +\"'\"+'\"'+ '--areaid '+str(df1.iloc[i][\"Areaid\"])\n",
    "    commandslist.append(commnd)\n",
    "    \n",
    "df1[\"Command\"]=commandslist\n",
    "writer=pd.ExcelWriter('EmptyAreasOutput.xlsx')\n",
    "df1.to_excel(writer)\n",
    "writer.save()\n"
   ]
  },
  {
   "cell_type": "code",
   "execution_count": null,
   "metadata": {},
   "outputs": [],
   "source": []
  },
  {
   "cell_type": "code",
   "execution_count": null,
   "metadata": {},
   "outputs": [],
   "source": []
  }
 ],
 "metadata": {
  "kernelspec": {
   "display_name": "Python 3",
   "language": "python",
   "name": "python3"
  },
  "language_info": {
   "codemirror_mode": {
    "name": "ipython",
    "version": 3
   },
   "file_extension": ".py",
   "mimetype": "text/x-python",
   "name": "python",
   "nbconvert_exporter": "python",
   "pygments_lexer": "ipython3",
   "version": "3.7.4"
  }
 },
 "nbformat": 4,
 "nbformat_minor": 2
}
