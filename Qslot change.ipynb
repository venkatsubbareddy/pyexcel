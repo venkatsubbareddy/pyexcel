{
 "cells": [
  {
   "cell_type": "code",
   "execution_count": 5,
   "metadata": {},
   "outputs": [
    {
     "name": "stdout",
     "output_type": "stream",
     "text": [
      "138\n"
     ]
    }
   ],
   "source": [
    "import pandas as pd\n",
    "from pandas import ExcelWriter\n",
    "from pandas import ExcelFile\n",
    "\n",
    "#read the Input Excel file \n",
    "#xls=pd.ExcelFile(\"HPG_SC_RTLqslot.xlsx\")\n",
    "xls=pd.ExcelFile(\"RITM9299256.xlsx\")\n",
    "#xls=pd.ExcelFile(\"HPG_SC_TESTQslot.xlsx\")\n",
    "#xls=pd.ExcelFile(\"HPG_SC_UNSPECqslot.xlsx\")\n",
    "\n",
    "df1=pd.read_excel(xls,\"Sheet1\")\n",
    "commandslist=[]\n",
    "'''\n",
    "comnd='stod modify --cell sc --areaid '+str(\"sc.293463\") +' --businessgroup HPG --project '+str(\"TBH\")+' --qslot RTL'\n",
    "print(comnd)\n",
    "stod modify --cell sc --path Path --businessgroup HPG --project Project --qslot Qslot\n",
    "'''\n",
    "print(len(df1))\n",
    "for i in range(0,len(df1)):\n",
    "    #print(df1.iloc[i])\n",
    "    #commnd='stod modify --cell sc --areaid '+str(df1.iloc[i][\"Areaid\"]) +' --businessgroup HPG --project '+str(df1.iloc[i][\"Project\"])+' --qslot RTL'    \n",
    "    commnd='stod modify --cell sc --path '+str(df1.iloc[i][\"Path\"]) +' --businessgroup HPG --project '+str(df1.iloc[i][\"Project\"])+' --qslot '+str(df1.iloc[i][\"Qslot\"])    \n",
    "    #commnd='stod modify --cell sc --areaid '+str(df1.iloc[i][\"Areaid\"]) +' --businessgroup HPG --project '+str(df1.iloc[i][\"Project\"])+' --qslot TEST'    \n",
    "    #commnd='stod modify --cell sc --areaid '+str(df1.iloc[i][\"Areaid\"]) +' --businessgroup HPG --project '+str(df1.iloc[i][\"Project\"])+' --qslot UNSPEC'    \n",
    "    #commnd='stod modify --cell sc --areaid '+str(df1.iloc[i][\"Areaid\"]) +' --businessgroup HPG --project '+str(df1.iloc[i][\"Project\"])+' --qslot VAL'    \n",
    "\n",
    "    commandslist.append(commnd)\n",
    "    \n",
    "df1[\"Command\"]=commandslist\n",
    "#writer=pd.ExcelWriter('HPG_SC_RTLqslot.xlsx')\n",
    "writer=pd.ExcelWriter('RITM9299256_Qslot.xlsx')\n",
    "#writer=pd.ExcelWriter('HPG_SC_TESTQslot.xlsx')\n",
    "#writer=pd.ExcelWriter('HPG_SC_UNSPECqslot.xlsx')\n",
    "#writer=pd.ExcelWriter('HPG_SC_VALqslot.xlsx')\n",
    "df1.to_excel(writer,\"Commands\")\n",
    "writer.save()\n"
   ]
  },
  {
   "cell_type": "code",
   "execution_count": null,
   "metadata": {},
   "outputs": [],
   "source": []
  }
 ],
 "metadata": {
  "kernelspec": {
   "display_name": "Python 3",
   "language": "python",
   "name": "python3"
  },
  "language_info": {
   "codemirror_mode": {
    "name": "ipython",
    "version": 3
   },
   "file_extension": ".py",
   "mimetype": "text/x-python",
   "name": "python",
   "nbconvert_exporter": "python",
   "pygments_lexer": "ipython3",
   "version": "3.8.3"
  }
 },
 "nbformat": 4,
 "nbformat_minor": 2
}
