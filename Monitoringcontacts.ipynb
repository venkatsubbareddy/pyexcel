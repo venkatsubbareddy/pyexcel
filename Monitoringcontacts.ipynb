{
 "cells": [
  {
   "cell_type": "code",
   "execution_count": null,
   "metadata": {},
   "outputs": [],
   "source": [
    " for user in df1.iloc[i]['Monitoring Contacts']:\n",
    "            if(user not in usernames):\n",
    "                value+=user+\",\"\n",
    "        value=value.rstrip(',')\n",
    "        if(value==''):\n",
    "            value=str(df1.iloc[i]['Owner'])  \n",
    "            \n",
    "    df1.iloc[i][\"Monitoring Contacts\"]=value.rstrip(',')\n",
    "\n",
    "for i in range(0,len(df1)):\n",
    "    commnd='stod modify --cell iind --properties \"monitoringcontacts='+\"'\"+ str(df1.iloc[i][\"Monitoring Contacts\"]) +\"'\"+'\"'+ ' --areaid '+str(df1.iloc[i][\"Areaid\"])\n",
    "    commandslist.append(commnd)\n",
    "    \n",
    "df1[\"Command\"]=commandslist\n",
    "writer=pd.ExcelWriter('FinalOutput.xlsx')\n",
    "df1.to_excel(writer)\n",
    "writer.save()"
   ]
  },
  {
   "cell_type": "code",
   "execution_count": null,
   "metadata": {},
   "outputs": [],
   "source": []
  }
 ],
 "metadata": {
  "kernelspec": {
   "display_name": "Python 3",
   "language": "python",
   "name": "python3"
  },
  "language_info": {
   "codemirror_mode": {
    "name": "ipython",
    "version": 3
   },
   "file_extension": ".py",
   "mimetype": "text/x-python",
   "name": "python",
   "nbconvert_exporter": "python",
   "pygments_lexer": "ipython3",
   "version": "3.8.3"
  }
 },
 "nbformat": 4,
 "nbformat_minor": 2
}
